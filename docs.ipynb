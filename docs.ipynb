{
 "cells": [
  {
   "cell_type": "markdown",
   "id": "b6814a32",
   "metadata": {},
   "source": [
    "# For the Random Forest Algorithm\n",
    "    1) Number of trees(n_estimators):\n",
    "        after using gridsearch across multiple hyperparameters' values I found that the best number of trees is around 400.\n",
    "\n",
    "    2) Tree Depth (max_depth):\n",
    "        The most promising depth was around 4-7 and I chose 6 as it had a well-distributed recall, which is what I found most important \n",
    "        while using this model.\n",
    "\n",
    "    3) Class Weight (class_weight):\n",
    "        Using balanced as the class_weight as our data is biased towards the 'No' results with over 90% of the data being labeled 'No'.\n",
    "\n",
    "    4) Evaluation Metrics:\n",
    "        For the metrics used I focused on maintaing a relatively high accuracy while maintaining the 'Yes' recall as high as possible.\n",
    "\n",
    "    5) Hyperparameter Selection Criteria:\n",
    "        I used recall as the scoring metric during GridSearchCV to guide hyperparameter selection. This ensured the tuning process prioritized identifying patients likely to be readmitted within 30 days."
   ]
  }
 ],
 "metadata": {
  "language_info": {
   "name": "python"
  }
 },
 "nbformat": 4,
 "nbformat_minor": 5
}
